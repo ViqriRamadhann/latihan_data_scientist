{
  "cells": [
    {
      "cell_type": "markdown",
      "metadata": {
        "id": "view-in-github",
        "colab_type": "text"
      },
      "source": [
        "<a href=\"https://colab.research.google.com/github/ViqriRamadhann/latihan_data_scientist/blob/main/Tugas_besar_1_DSA_(5)_(6).ipynb\" target=\"_parent\"><img src=\"https://colab.research.google.com/assets/colab-badge.svg\" alt=\"Open In Colab\"/></a>"
      ]
    },
    {
      "cell_type": "markdown",
      "source": [
        "NAMA PESERTA : VIQRI RAMADHAN WALUYA ; TUGAS BESAR 1\n"
      ],
      "metadata": {
        "id": "8yzaLegSaWLk"
      }
    },
    {
      "cell_type": "markdown",
      "metadata": {
        "id": "QZkqsHToIXBE"
      },
      "source": [
        "1.tampilkan output : \"Hallo saya siap belajar bahasa pemprograman python\" dengan menggunakan print()"
      ]
    },
    {
      "cell_type": "markdown",
      "source": [],
      "metadata": {
        "id": "_K3mxofaaVDi"
      }
    },
    {
      "cell_type": "code",
      "execution_count": null,
      "metadata": {
        "id": "VL__nMv8Igcj",
        "colab": {
          "base_uri": "https://localhost:8080/"
        },
        "outputId": "987d8b0e-7917-488b-9a2c-e8a0d9dc301b"
      },
      "outputs": [
        {
          "output_type": "stream",
          "name": "stdout",
          "text": [
            "Hallo saya siap belajar bahasa pemprograman python\n"
          ]
        }
      ],
      "source": [
        "print(\"Hallo saya siap belajar bahasa pemprograman python\")"
      ]
    },
    {
      "cell_type": "markdown",
      "metadata": {
        "id": "yJzoJsuTI9_s"
      },
      "source": [
        "2.Cek tipe data dari 20/5"
      ]
    },
    {
      "cell_type": "code",
      "execution_count": null,
      "metadata": {
        "id": "Jo_79zHnJsyt",
        "colab": {
          "base_uri": "https://localhost:8080/"
        },
        "outputId": "915bc2f0-43fc-42cf-a366-6eadb9633ea6"
      },
      "outputs": [
        {
          "output_type": "stream",
          "name": "stdout",
          "text": [
            "<class 'float'>\n"
          ]
        }
      ],
      "source": [
        "print(type(20/5))"
      ]
    },
    {
      "cell_type": "markdown",
      "metadata": {
        "id": "S-jJVluNJzOr"
      },
      "source": [
        "3.Konversi 0 ke boolean!"
      ]
    },
    {
      "cell_type": "code",
      "execution_count": null,
      "metadata": {
        "id": "TMVjAAwrJ3JO",
        "colab": {
          "base_uri": "https://localhost:8080/"
        },
        "outputId": "a2138775-6e27-4437-e039-e0ad3f9cc93b"
      },
      "outputs": [
        {
          "output_type": "stream",
          "name": "stdout",
          "text": [
            "False\n"
          ]
        }
      ],
      "source": [
        "print(bool(0))"
      ]
    },
    {
      "cell_type": "markdown",
      "metadata": {
        "id": "vZChd92NKKFn"
      },
      "source": [
        "4.Buatlah variabel firstname dan variable lastname dengan nama anda lalu print hasilnya"
      ]
    },
    {
      "cell_type": "code",
      "execution_count": null,
      "metadata": {
        "colab": {
          "base_uri": "https://localhost:8080/"
        },
        "id": "DOJV3vYoKYFs",
        "outputId": "6632e0e8-59a5-463a-cc8a-685fcaf3e8bb"
      },
      "outputs": [
        {
          "output_type": "stream",
          "name": "stdout",
          "text": [
            "nama depan: Muhammad\n",
            "nama belakang: Naufal\n"
          ]
        }
      ],
      "source": [
        "#Contoh\n",
        "firtsname = 'Muhammad'\n",
        "lastname = 'Naufal'\n",
        "print(\"nama depan:\",firtsname)\n",
        "print(\"nama belakang:\",lastname)"
      ]
    },
    {
      "cell_type": "code",
      "execution_count": null,
      "metadata": {
        "id": "t0fMwtEyKmMV",
        "colab": {
          "base_uri": "https://localhost:8080/"
        },
        "outputId": "2ec8c8f6-652b-4851-f944-befb85362596"
      },
      "outputs": [
        {
          "output_type": "stream",
          "name": "stdout",
          "text": [
            "Viqri\n",
            "Waluya\n"
          ]
        }
      ],
      "source": [
        "firstname = \"Viqri\"\n",
        "lastname = \"Waluya\"\n",
        "\n",
        "print(firstname)\n",
        "print(lastname)"
      ]
    },
    {
      "cell_type": "markdown",
      "metadata": {
        "id": "KiPL37RlLMCC"
      },
      "source": [
        "5.Buatlah variabel \"a\" berupa angka interger dan variabel \"b\" berupa angka interger (angka bebas)\n",
        "\n",
        "*   print(a+b)\n",
        "*   Lihatlah hasil pembagian a dan b lalu buatlah menjadi interger\n",
        "\n",
        "* print(a*b)\n",
        "* print a pangkat b\n",
        "\n",
        "\n",
        "\n"
      ]
    },
    {
      "cell_type": "code",
      "execution_count": null,
      "metadata": {
        "colab": {
          "base_uri": "https://localhost:8080/"
        },
        "id": "8mGQ1ny1LrRz",
        "outputId": "62039558-eda2-4cef-8b89-de8b0d68421b"
      },
      "outputs": [
        {
          "name": "stdout",
          "output_type": "stream",
          "text": [
            "15\n",
            "2.0\n",
            "2\n",
            "50\n",
            "100000\n"
          ]
        }
      ],
      "source": [
        "#Contoh\n",
        "a = 10\n",
        "b = 5\n",
        "print(a+b)\n",
        "print(a/b) #hasil float\n",
        "print(a//b) #hasil interger\n",
        "print(a*b)\n",
        "print(a**b)"
      ]
    },
    {
      "cell_type": "code",
      "execution_count": null,
      "metadata": {
        "id": "NE36njKBMAbe",
        "colab": {
          "base_uri": "https://localhost:8080/"
        },
        "outputId": "71ef5b47-7884-4a82-814b-560246e2d943"
      },
      "outputs": [
        {
          "output_type": "stream",
          "name": "stdout",
          "text": [
            "8\n",
            "1\n",
            "15\n",
            "125\n"
          ]
        }
      ],
      "source": [
        "a = 5  # Bisa diganti angka lain\n",
        "b = 3  # Bisa diganti angka lain\n",
        "\n",
        "# Menampilkan hasil penjumlahan\n",
        "print(a + b)\n",
        "\n",
        "# Hasil pembagian dan konversi jadi integer\n",
        "print(int(a / b))\n",
        "\n",
        "# Menampilkan hasil perkalian\n",
        "print(a * b)\n",
        "\n",
        "# Menampilkan hasil pangkat (a^b)\n",
        "print(a ** b)"
      ]
    },
    {
      "cell_type": "markdown",
      "metadata": {
        "id": "G707w1zFMPqM"
      },
      "source": [
        "6.Hitunglah total harga dari 3 buah penghapus seharga 3500, 5 buah buku seharga 25000"
      ]
    },
    {
      "cell_type": "code",
      "execution_count": null,
      "metadata": {
        "id": "l4JgLjrXMctB",
        "colab": {
          "base_uri": "https://localhost:8080/"
        },
        "outputId": "d7200c13-56c6-40ac-9e50-0c69cebc2b71"
      },
      "outputs": [
        {
          "output_type": "stream",
          "name": "stdout",
          "text": [
            "135500\n"
          ]
        }
      ],
      "source": [
        "harga_penghapus = 3500\n",
        "jumlah_penghapus = 3\n",
        "\n",
        "harga_buku = 25000\n",
        "jumlah_buku = 5\n",
        "\n",
        "total_penghapus = harga_penghapus * jumlah_penghapus\n",
        "total_buku = harga_buku * jumlah_buku\n",
        "\n",
        "total_harga = total_penghapus + total_buku\n",
        "\n",
        "print(total_harga)"
      ]
    },
    {
      "cell_type": "markdown",
      "metadata": {
        "id": "qAkUoD9qMitv"
      },
      "source": [
        "7.Harga sebuah barang adalah 750000, hitunglah harga barang setelah mendapat potongan harga 45%!"
      ]
    },
    {
      "cell_type": "code",
      "execution_count": null,
      "metadata": {
        "id": "TlMUZ3hOMxKZ",
        "colab": {
          "base_uri": "https://localhost:8080/"
        },
        "outputId": "ea0bce04-0554-4f8a-c94c-a6f58c10d4e6"
      },
      "outputs": [
        {
          "output_type": "stream",
          "name": "stdout",
          "text": [
            "412500.0\n"
          ]
        }
      ],
      "source": [
        "harga_barang = 750000\n",
        "potongan = 45 / 100  # 45% dalam bentuk desimal\n",
        "\n",
        "harga_setelah_potongan = harga_barang - (harga_barang * potongan)\n",
        "\n",
        "print(harga_setelah_potongan)"
      ]
    },
    {
      "cell_type": "markdown",
      "metadata": {
        "id": "aHKYhHygNu8I"
      },
      "source": [
        "8.Ambil indeks ke 2 dari string \"Python itu asik\""
      ]
    },
    {
      "cell_type": "code",
      "execution_count": null,
      "metadata": {
        "colab": {
          "base_uri": "https://localhost:8080/",
          "height": 35
        },
        "id": "oFtZHLMqN6M1",
        "outputId": "bc03382d-4f1b-42d1-ecac-6b3d87dffd5e"
      },
      "outputs": [
        {
          "data": {
            "application/vnd.google.colaboratory.intrinsic+json": {
              "type": "string"
            },
            "text/plain": [
              "'l'"
            ]
          },
          "execution_count": 5,
          "metadata": {
            "tags": []
          },
          "output_type": "execute_result"
        }
      ],
      "source": [
        "#contoh indexing\n",
        "teks = 'Belajar itu asik'\n",
        "teks[2] #ambil index ke 2"
      ]
    },
    {
      "cell_type": "code",
      "execution_count": null,
      "metadata": {
        "id": "X22YzUF-OEF1",
        "colab": {
          "base_uri": "https://localhost:8080/"
        },
        "outputId": "d968d7a1-4fcd-4e5b-e6f2-18789cf69d33"
      },
      "outputs": [
        {
          "output_type": "stream",
          "name": "stdout",
          "text": [
            "t\n"
          ]
        }
      ],
      "source": [
        "kalimat = \"Python itu asik\"\n",
        "karakter_ke2 = kalimat[2]\n",
        "\n",
        "print(karakter_ke2)"
      ]
    },
    {
      "cell_type": "markdown",
      "metadata": {
        "id": "lX7AhImSOqhK"
      },
      "source": [
        "9.Ambil kata \"yuk\" dari string \"ayuk\""
      ]
    },
    {
      "cell_type": "code",
      "execution_count": null,
      "metadata": {
        "id": "ZM-A2IIgPaue",
        "colab": {
          "base_uri": "https://localhost:8080/"
        },
        "outputId": "3de3f9f8-914e-4916-bb4b-2de01462e71c"
      },
      "outputs": [
        {
          "output_type": "stream",
          "name": "stdout",
          "text": [
            "yuk\n"
          ]
        }
      ],
      "source": [
        "kata = \"ayuk\"\n",
        "ambil_kata = kata[1:]\n",
        "\n",
        "print(ambil_kata)"
      ]
    },
    {
      "cell_type": "markdown",
      "metadata": {
        "id": "Dizc75FGPdan"
      },
      "source": [
        "10.Keluarkan output \"Akhirnya selesai\""
      ]
    },
    {
      "cell_type": "code",
      "execution_count": null,
      "metadata": {
        "id": "8mkqGBggTrru"
      },
      "outputs": [],
      "source": []
    },
    {
      "cell_type": "code",
      "execution_count": null,
      "metadata": {
        "id": "Qv97x4fuPhKg",
        "colab": {
          "base_uri": "https://localhost:8080/"
        },
        "outputId": "a1fe3eff-60c4-485c-97c2-ff5fce9f0d4e"
      },
      "outputs": [
        {
          "output_type": "stream",
          "name": "stdout",
          "text": [
            "Akhirnya selesai\n"
          ]
        }
      ],
      "source": [
        "print(\"Akhirnya selesai\")"
      ]
    },
    {
      "cell_type": "markdown",
      "metadata": {
        "id": "tJGp7bzBTcmD"
      },
      "source": [
        "11.Gabungkan list a = [1,'hallo', 2,3] dengan list b = ['pagi', 1000]"
      ]
    },
    {
      "cell_type": "code",
      "execution_count": null,
      "metadata": {
        "colab": {
          "base_uri": "https://localhost:8080/"
        },
        "id": "VYYsGB7STtkS",
        "outputId": "3cfe12c5-727b-4b2a-e79a-4553f1683da1"
      },
      "outputs": [
        {
          "data": {
            "text/plain": [
              "['test', 1, 2, 3, 4, 5]"
            ]
          },
          "execution_count": 1,
          "metadata": {
            "tags": []
          },
          "output_type": "execute_result"
        }
      ],
      "source": [
        "#Cara gabungkan list\n",
        "a = ['test',1,2]\n",
        "b = [3,4,5]\n",
        "a+b"
      ]
    },
    {
      "cell_type": "code",
      "execution_count": null,
      "metadata": {
        "id": "I-zvuQfOT4Sj",
        "colab": {
          "base_uri": "https://localhost:8080/"
        },
        "outputId": "65d311c5-a699-4422-ee98-539de3d25873"
      },
      "outputs": [
        {
          "output_type": "stream",
          "name": "stdout",
          "text": [
            "[1, 'hallo', 2, 3, 'pagi', 1000]\n"
          ]
        }
      ],
      "source": [
        "a = [1, 'hallo', 2, 3]\n",
        "b = ['pagi', 1000]\n",
        "\n",
        "gabungan = a + b\n",
        "\n",
        "print(gabungan)"
      ]
    },
    {
      "cell_type": "markdown",
      "metadata": {
        "id": "zvOONx8CUEn-"
      },
      "source": [
        "12.Buatlah sebuah list new_list yang berisi indonesia, True, 7, [1, 2, 3], 1.5"
      ]
    },
    {
      "cell_type": "code",
      "execution_count": null,
      "metadata": {
        "colab": {
          "base_uri": "https://localhost:8080/"
        },
        "id": "41mlRcYPUKGi",
        "outputId": "f9f616d1-fc4d-4c5d-faaa-9479a01ac537"
      },
      "outputs": [
        {
          "data": {
            "text/plain": [
              "['malaysia', True, [9, 8, 7], 2.5]"
            ]
          },
          "execution_count": 7,
          "metadata": {
            "tags": []
          },
          "output_type": "execute_result"
        }
      ],
      "source": [
        "#Cara buat nested list\n",
        "contoh = ['malaysia',True,[9,8,7],2.5] #isi list hanya contoh\n",
        "contoh"
      ]
    },
    {
      "cell_type": "code",
      "execution_count": null,
      "metadata": {
        "id": "qNG2duabUWiT",
        "colab": {
          "base_uri": "https://localhost:8080/"
        },
        "outputId": "d55a7d95-f623-4f83-fe23-4e43d1e02874"
      },
      "outputs": [
        {
          "output_type": "stream",
          "name": "stdout",
          "text": [
            "['indonesia', True, 7, [1, 2, 3], 1.5]\n"
          ]
        }
      ],
      "source": [
        "new_list = [\"indonesia\", True, 7, [1, 2, 3], 1.5]\n",
        "\n",
        "print(new_list)"
      ]
    },
    {
      "cell_type": "markdown",
      "metadata": {
        "id": "Kz4cQ_ffWt4a"
      },
      "source": [
        "13.Ambil elemen list pada indeks 2 dari list new_list"
      ]
    },
    {
      "cell_type": "code",
      "execution_count": null,
      "metadata": {
        "colab": {
          "base_uri": "https://localhost:8080/"
        },
        "id": "Y_QFsEGpW372",
        "outputId": "52d403ec-4c4b-40e4-82f5-016bb2248622"
      },
      "outputs": [
        {
          "data": {
            "text/plain": [
              "[9, 8, 7]"
            ]
          },
          "execution_count": 14,
          "metadata": {
            "tags": []
          },
          "output_type": "execute_result"
        }
      ],
      "source": [
        "#Contoh indexing list indeks\n",
        "contoh = ['malaysia',True,[9,8,7],2.5] #isi list hanya contoh\n",
        "contoh[2]\n"
      ]
    },
    {
      "cell_type": "code",
      "execution_count": null,
      "metadata": {
        "id": "GXIydlKkXMEX",
        "colab": {
          "base_uri": "https://localhost:8080/"
        },
        "outputId": "2806c14f-c4bb-4500-843f-17628ccc32a2"
      },
      "outputs": [
        {
          "output_type": "stream",
          "name": "stdout",
          "text": [
            "7\n"
          ]
        }
      ],
      "source": [
        "elemen_indeks_2 = new_list[2]\n",
        "\n",
        "print(elemen_indeks_2)"
      ]
    },
    {
      "cell_type": "markdown",
      "metadata": {
        "id": "z-uNrdLwXE1h"
      },
      "source": [
        "14.Ambil elemen list pada indeks 1, 2, 3 dari list new_list !"
      ]
    },
    {
      "cell_type": "code",
      "execution_count": null,
      "metadata": {
        "colab": {
          "base_uri": "https://localhost:8080/"
        },
        "id": "OAoJC-78XKPv",
        "outputId": "4de09755-adc5-4356-b4af-697e08d73070"
      },
      "outputs": [
        {
          "data": {
            "text/plain": [
              "[True, [9, 8, 7], 2.5]"
            ]
          },
          "execution_count": 6,
          "metadata": {
            "tags": []
          },
          "output_type": "execute_result"
        }
      ],
      "source": [
        "#cara slicing\n",
        "contoh[1:4]"
      ]
    },
    {
      "cell_type": "code",
      "execution_count": null,
      "metadata": {
        "id": "J9pYOpgUXwo-",
        "colab": {
          "base_uri": "https://localhost:8080/"
        },
        "outputId": "63674171-e658-4517-cc23-219d2552d1df"
      },
      "outputs": [
        {
          "output_type": "stream",
          "name": "stdout",
          "text": [
            "[True, 7, [1, 2, 3]]\n"
          ]
        }
      ],
      "source": [
        "elemen_1_2_3 = new_list[1:4]\n",
        "\n",
        "print(elemen_1_2_3)"
      ]
    },
    {
      "cell_type": "markdown",
      "metadata": {
        "id": "0fcN_rKHX7Yl"
      },
      "source": [
        "15.Hapus 1.5 pada list new_list"
      ]
    },
    {
      "cell_type": "code",
      "execution_count": null,
      "metadata": {
        "colab": {
          "base_uri": "https://localhost:8080/"
        },
        "id": "QWa4PUPIYHa7",
        "outputId": "5b0fc3c1-1b67-4c23-9e46-e4238ad369c1"
      },
      "outputs": [
        {
          "data": {
            "text/plain": [
              "['malaysia', True, [9, 8, 7]]"
            ]
          },
          "execution_count": 15,
          "metadata": {
            "tags": []
          },
          "output_type": "execute_result"
        }
      ],
      "source": [
        "#cara hapus isi list\n",
        "contoh.remove(2.5)\n",
        "contoh"
      ]
    },
    {
      "cell_type": "code",
      "execution_count": null,
      "metadata": {
        "id": "kDuUKBQsZLjA",
        "colab": {
          "base_uri": "https://localhost:8080/"
        },
        "outputId": "d9fc6314-f09a-4494-a371-352e1b4e8804"
      },
      "outputs": [
        {
          "output_type": "stream",
          "name": "stdout",
          "text": [
            "['indonesia', True, 7, [1, 2, 3]]\n"
          ]
        }
      ],
      "source": [
        "new_list.remove(1.5)\n",
        "\n",
        "print(new_list)"
      ]
    },
    {
      "cell_type": "code",
      "execution_count": null,
      "metadata": {
        "id": "NO1G4ZoxYfMC"
      },
      "outputs": [],
      "source": []
    },
    {
      "cell_type": "markdown",
      "metadata": {
        "id": "ZR3opKnqPhsW"
      },
      "source": [
        "-Selamat mengerjakan-\n",
        "\n"
      ]
    }
  ],
  "metadata": {
    "colab": {
      "provenance": [],
      "include_colab_link": true
    },
    "kernelspec": {
      "display_name": "Python 3",
      "name": "python3"
    },
    "language_info": {
      "name": "python"
    }
  },
  "nbformat": 4,
  "nbformat_minor": 0
}